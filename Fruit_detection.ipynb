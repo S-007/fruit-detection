{
 "cells": [
  {
   "cell_type": "markdown",
   "metadata": {},
   "source": [
    "# Fruit Detection with Machine Learning (Python)"
   ]
  },
  {
   "cell_type": "code",
   "execution_count": 1,
   "metadata": {},
   "outputs": [],
   "source": [
    "import numpy as np\n",
    "import matplotlib.pyplot as plt\n",
    "import cv2\n",
    "import os"
   ]
  },
  {
   "cell_type": "code",
   "execution_count": 2,
   "metadata": {},
   "outputs": [],
   "source": [
    "path='fruits_data/'\n",
    "fruits_path=[]\n",
    "for root,folder,files in os.walk(path):\n",
    "    for file in files:\n",
    "        fruits_path.append(root+'/'+file)"
   ]
  },
  {
   "cell_type": "code",
   "execution_count": 4,
   "metadata": {},
   "outputs": [
    {
     "data": {
      "text/plain": [
       "['fruits_data/Apple/0_100.jpg',\n",
       " 'fruits_data/Apple/100_100.jpg',\n",
       " 'fruits_data/Apple/101_100.jpg',\n",
       " 'fruits_data/Apple/102_100.jpg',\n",
       " 'fruits_data/Apple/103_100.jpg',\n",
       " 'fruits_data/Apple/104_100.jpg',\n",
       " 'fruits_data/Apple/105_100.jpg',\n",
       " 'fruits_data/Apple/106_100.jpg',\n",
       " 'fruits_data/Apple/107_100.jpg',\n",
       " 'fruits_data/Apple/108_100.jpg',\n",
       " 'fruits_data/Apple/109_100.jpg',\n",
       " 'fruits_data/Apple/10_100.jpg',\n",
       " 'fruits_data/Apple/110_100.jpg',\n",
       " 'fruits_data/Apple/111_100.jpg',\n",
       " 'fruits_data/Apple/112_100.jpg',\n",
       " 'fruits_data/Apple/113_100.jpg',\n",
       " 'fruits_data/Apple/114_100.jpg',\n",
       " 'fruits_data/Apple/115_100.jpg',\n",
       " 'fruits_data/Apple/116_100.jpg',\n",
       " 'fruits_data/Apple/117_100.jpg',\n",
       " 'fruits_data/Apple/118_100.jpg',\n",
       " 'fruits_data/Apple/119_100.jpg',\n",
       " 'fruits_data/Apple/11_100.jpg',\n",
       " 'fruits_data/Apple/120_100.jpg',\n",
       " 'fruits_data/Apple/121_100.jpg',\n",
       " 'fruits_data/Apple/122_100.jpg',\n",
       " 'fruits_data/Apple/123_100.jpg',\n",
       " 'fruits_data/Apple/124_100.jpg',\n",
       " 'fruits_data/Apple/125_100.jpg',\n",
       " 'fruits_data/Apple/126_100.jpg',\n",
       " 'fruits_data/Apple/127_100.jpg',\n",
       " 'fruits_data/Apple/128_100.jpg',\n",
       " 'fruits_data/Apple/129_100.jpg',\n",
       " 'fruits_data/Apple/12_100.jpg',\n",
       " 'fruits_data/Apple/130_100.jpg',\n",
       " 'fruits_data/Apple/131_100.jpg',\n",
       " 'fruits_data/Apple/132_100.jpg',\n",
       " 'fruits_data/Apple/133_100.jpg',\n",
       " 'fruits_data/Apple/134_100.jpg',\n",
       " 'fruits_data/Apple/135_100.jpg',\n",
       " 'fruits_data/Apple/136_100.jpg',\n",
       " 'fruits_data/Apple/137_100.jpg',\n",
       " 'fruits_data/Apple/138_100.jpg',\n",
       " 'fruits_data/Orange/151_100.jpg',\n",
       " ...]"
      ]
     },
     "execution_count": 4,
     "metadata": {},
     "output_type": "execute_result"
    }
   ],
   "source": [
    "fruits_path"
   ]
  },
  {
   "cell_type": "code",
   "execution_count": 5,
   "metadata": {},
   "outputs": [],
   "source": [
    "fruits_array=[]\n",
    "for img in fruits_path:\n",
    "    image=cv2.imread(img)\n",
    "    image=cv2.cvtColor(image,cv2.COLOR_BGR2GRAY)\n",
    "    fruits_array.append(image)"
   ]
  },
  {
   "cell_type": "code",
   "execution_count": 6,
   "metadata": {},
   "outputs": [
    {
     "data": {
      "text/plain": [
       "(1421, 100, 100)"
      ]
     },
     "execution_count": 6,
     "metadata": {},
     "output_type": "execute_result"
    }
   ],
   "source": [
    "fruits_array=np.asarray(fruits_array)\n",
    "fruits_array.shape"
   ]
  },
  {
   "cell_type": "code",
   "execution_count": 7,
   "metadata": {},
   "outputs": [],
   "source": [
    "np.save('FRUITS.npy',fruits_array)"
   ]
  },
  {
   "cell_type": "code",
   "execution_count": 8,
   "metadata": {},
   "outputs": [
    {
     "data": {
      "text/plain": [
       "array([[[254, 254, 255, ..., 255, 255, 255],\n",
       "        [254, 255, 255, ..., 255, 255, 255],\n",
       "        [255, 255, 255, ..., 255, 255, 255],\n",
       "        ...,\n",
       "        [255, 255, 255, ..., 255, 255, 255],\n",
       "        [255, 255, 255, ..., 255, 255, 255],\n",
       "        [255, 255, 255, ..., 255, 255, 255]],\n",
       "\n",
       "       [[254, 254, 255, ..., 255, 255, 255],\n",
       "        [254, 255, 255, ..., 255, 255, 255],\n",
       "        [255, 255, 255, ..., 255, 255, 255],\n",
       "        ...,\n",
       "        [255, 255, 255, ..., 255, 255, 255],\n",
       "        [255, 255, 255, ..., 255, 255, 255],\n",
       "        [255, 255, 255, ..., 255, 255, 255]],\n",
       "\n",
       "       [[253, 254, 254, ..., 255, 255, 255],\n",
       "        [253, 254, 255, ..., 255, 255, 255],\n",
       "        [254, 255, 255, ..., 255, 255, 255],\n",
       "        ...,\n",
       "        [255, 255, 255, ..., 255, 255, 255],\n",
       "        [255, 255, 255, ..., 255, 255, 255],\n",
       "        [255, 255, 255, ..., 255, 255, 255]],\n",
       "\n",
       "       ...,\n",
       "\n",
       "       [[255, 255, 255, ..., 255, 255, 255],\n",
       "        [255, 255, 255, ..., 255, 255, 255],\n",
       "        [255, 255, 255, ..., 255, 255, 255],\n",
       "        ...,\n",
       "        [255, 255, 255, ..., 255, 255, 255],\n",
       "        [255, 255, 255, ..., 255, 255, 255],\n",
       "        [255, 255, 255, ..., 255, 255, 255]],\n",
       "\n",
       "       [[255, 255, 255, ..., 255, 255, 255],\n",
       "        [255, 255, 255, ..., 255, 255, 255],\n",
       "        [255, 255, 255, ..., 255, 255, 255],\n",
       "        ...,\n",
       "        [255, 255, 255, ..., 255, 255, 255],\n",
       "        [255, 255, 255, ..., 255, 255, 255],\n",
       "        [255, 255, 255, ..., 255, 255, 255]],\n",
       "\n",
       "       [[255, 255, 255, ..., 255, 255, 255],\n",
       "        [255, 255, 255, ..., 255, 255, 255],\n",
       "        [255, 255, 255, ..., 255, 255, 255],\n",
       "        ...,\n",
       "        [255, 255, 255, ..., 255, 255, 255],\n",
       "        [255, 255, 255, ..., 255, 255, 255],\n",
       "        [255, 255, 255, ..., 255, 255, 255]]], dtype=uint8)"
      ]
     },
     "execution_count": 8,
     "metadata": {},
     "output_type": "execute_result"
    }
   ],
   "source": [
    "train_data= np.load('FRUITS.npy')\n",
    "train_data"
   ]
  },
  {
   "cell_type": "code",
   "execution_count": 9,
   "metadata": {},
   "outputs": [
    {
     "data": {
      "text/plain": [
       "(1421, 100, 100)"
      ]
     },
     "execution_count": 9,
     "metadata": {},
     "output_type": "execute_result"
    }
   ],
   "source": [
    "train_data.shape"
   ]
  },
  {
   "cell_type": "code",
   "execution_count": 10,
   "metadata": {},
   "outputs": [
    {
     "data": {
      "text/plain": [
       "['Apple', 'Banana', 'Orange']"
      ]
     },
     "execution_count": 10,
     "metadata": {},
     "output_type": "execute_result"
    }
   ],
   "source": [
    "labels= os.listdir('fruits_data')\n",
    "labels"
   ]
  },
  {
   "cell_type": "code",
   "execution_count": 11,
   "metadata": {},
   "outputs": [
    {
     "data": {
      "text/plain": [
       "{0: 'Apple', 1: 'Banana', 2: 'Orange'}"
      ]
     },
     "execution_count": 11,
     "metadata": {},
     "output_type": "execute_result"
    }
   ],
   "source": [
    "labelname= {i : labels[i] for i in range(len(labels))}\n",
    "labelname"
   ]
  },
  {
   "cell_type": "code",
   "execution_count": 12,
   "metadata": {},
   "outputs": [],
   "source": [
    "label_len =[]\n",
    "for root,folder,files in os.walk('fruits_data'):\n",
    "    label_len.append(len(files))"
   ]
  },
  {
   "cell_type": "code",
   "execution_count": 13,
   "metadata": {},
   "outputs": [
    {
     "data": {
      "text/plain": [
       "[0, 492, 450, 479]"
      ]
     },
     "execution_count": 13,
     "metadata": {},
     "output_type": "execute_result"
    }
   ],
   "source": [
    "label_len"
   ]
  },
  {
   "cell_type": "code",
   "execution_count": 14,
   "metadata": {},
   "outputs": [
    {
     "name": "stdout",
     "output_type": "stream",
     "text": [
      "0 492\n",
      "492 942\n",
      "942 1421\n"
     ]
    }
   ],
   "source": [
    "output_labels= np.zeros((len(train_data),1))\n",
    "slice_1=0\n",
    "slice_2=0\n",
    "for i in range(len(label_len)-1):\n",
    "    slice_1 += label_len[i]\n",
    "    slice_2 += label_len[i+1]\n",
    "    print(slice_1,slice_2)\n",
    "    output_labels[slice_1:slice_2,:]=i"
   ]
  },
  {
   "cell_type": "code",
   "execution_count": 15,
   "metadata": {},
   "outputs": [
    {
     "data": {
      "text/plain": [
       "array([[0.],\n",
       "       [0.],\n",
       "       [0.],\n",
       "       ...,\n",
       "       [2.],\n",
       "       [2.],\n",
       "       [2.]])"
      ]
     },
     "execution_count": 15,
     "metadata": {},
     "output_type": "execute_result"
    }
   ],
   "source": [
    "output_labels"
   ]
  },
  {
   "cell_type": "code",
   "execution_count": 16,
   "metadata": {},
   "outputs": [],
   "source": [
    "def distance(x2,x1):\n",
    "    return np.sqrt(sum((x1 - x2) ** 2))\n",
    "\n",
    "def knn(x,train,k=5):\n",
    "    n = train.shape[0]\n",
    "    d = []\n",
    "    for i in range(n):\n",
    "        d.append(distance(x,train[i]))\n",
    "    d = np.asarray(d)\n",
    "    indexes = np.argsort(d)[:k]\n",
    "    sortedLabels = output_labels[indexes]\n",
    "    count = np.unique(sortedLabels, return_counts=True)\n",
    "    return count[0][np.argmax(count[1])]"
   ]
  },
  {
   "cell_type": "code",
   "execution_count": 17,
   "metadata": {},
   "outputs": [],
   "source": [
    "test_img= cv2.imread('156_100.jpg')"
   ]
  },
  {
   "cell_type": "code",
   "execution_count": 18,
   "metadata": {},
   "outputs": [
    {
     "data": {
      "text/plain": [
       "array([[253, 253, 253, ..., 255, 255, 255],\n",
       "       [253, 253, 254, ..., 255, 255, 255],\n",
       "       [253, 254, 255, ..., 255, 255, 255],\n",
       "       ...,\n",
       "       [255, 255, 255, ..., 255, 255, 255],\n",
       "       [255, 255, 255, ..., 255, 255, 255],\n",
       "       [255, 255, 255, ..., 255, 255, 255]], dtype=uint8)"
      ]
     },
     "execution_count": 18,
     "metadata": {},
     "output_type": "execute_result"
    }
   ],
   "source": [
    "test_img = cv2.cvtColor(test_img,cv2.COLOR_BGR2GRAY)\n",
    "test_img"
   ]
  },
  {
   "cell_type": "code",
   "execution_count": 19,
   "metadata": {},
   "outputs": [
    {
     "data": {
      "text/plain": [
       "(100, 100)"
      ]
     },
     "execution_count": 19,
     "metadata": {},
     "output_type": "execute_result"
    }
   ],
   "source": [
    "test_img.shape"
   ]
  },
  {
   "cell_type": "code",
   "execution_count": 20,
   "metadata": {},
   "outputs": [],
   "source": [
    "test_img = cv2.resize(test_img, (100,100))"
   ]
  },
  {
   "cell_type": "code",
   "execution_count": 21,
   "metadata": {},
   "outputs": [],
   "source": [
    "train_data=train_data.reshape(train_data.shape[0],-1)"
   ]
  },
  {
   "cell_type": "code",
   "execution_count": 22,
   "metadata": {},
   "outputs": [
    {
     "data": {
      "text/plain": [
       "(1421, 10000)"
      ]
     },
     "execution_count": 22,
     "metadata": {},
     "output_type": "execute_result"
    }
   ],
   "source": [
    "train_data.shape"
   ]
  },
  {
   "cell_type": "code",
   "execution_count": 23,
   "metadata": {},
   "outputs": [
    {
     "data": {
      "text/plain": [
       "'Apple'"
      ]
     },
     "execution_count": 23,
     "metadata": {},
     "output_type": "execute_result"
    }
   ],
   "source": [
    "label = knn(test_img.flatten(), train_data)\n",
    "labelname[int(label)]"
   ]
  },
  {
   "cell_type": "markdown",
   "metadata": {},
   "source": [
    ":)  ......  :) .......  :)  ......  :) .......  :)  ......  :) .......  :)  ......  :) .......  :)  ......  :) .......  :)  ......  :) .......  :)  ......  :) ....... :)  ......  :) .......  :)  ......  :) .......  :)  ......  :)                                               "
   ]
  }
 ],
 "metadata": {
  "kernelspec": {
   "display_name": "Python 3",
   "language": "python",
   "name": "python3"
  },
  "language_info": {
   "codemirror_mode": {
    "name": "ipython",
    "version": 3
   },
   "file_extension": ".py",
   "mimetype": "text/x-python",
   "name": "python",
   "nbconvert_exporter": "python",
   "pygments_lexer": "ipython3",
   "version": "3.7.3"
  }
 },
 "nbformat": 4,
 "nbformat_minor": 2
}
